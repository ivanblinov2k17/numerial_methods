{
 "cells": [
  {
   "cell_type": "code",
   "execution_count": 1,
   "metadata": {},
   "outputs": [],
   "source": [
    "import numpy as np\n",
    "import pandas as pd\n",
    "import matplotlib as plt\n"
   ]
  },
  {
   "cell_type": "markdown",
   "metadata": {},
   "source": [
    "<h1>Метод наискорейшего градиентного спуска</h1>\n",
    "Суть метода:\n",
    "$$f(x^{k+1})<f(x^k)$$\n",
    "$$x^{k+1} = x^k + \\mu q, q\\neq0$$\n",
    "$$f(x)=\\frac{1}{2}x^T  A  x + x^T  b$$\n",
    "Исходные данные:\n",
    "N = 2\n",
    "\\begin{equation*}\n",
    "A = \\left(\n",
    "\\begin{array}{ccc}\n",
    "4 & 1 & 1\\\\\n",
    "1 & 2(3+0.1N) & -1\\\\\n",
    "1 &-1&2(4+0.1N) \n",
    "\\end{array}\n",
    "\\right)\n",
    "\\end{equation*}\n",
    "\n",
    "\\begin{equation*}\n",
    "b= \\left(\n",
    "\\begin{array}{c}\n",
    "1\\\\\n",
    "-2\\\\\n",
    "3\n",
    "\\end{array}\n",
    "\\right)\n",
    "\\end{equation*}\n",
    "\n",
    "\n",
    "МНГС сходится для $\\forall x_0$, поэтому возьмем $x_0=b$\n",
    "$$\\bar { \\mu } _ { k } = - \\frac { \\left\\| A x ^ { k } + b \\right\\| ^ { 2 } } { \\left( A x ^ { k } + b \\right) ^ { T } A \\left( A x ^ { k } + b \\right) }$$\n",
    "$$q = grad f(x) = Ax + b$$"
   ]
  },
  {
   "cell_type": "code",
   "execution_count": 2,
   "metadata": {},
   "outputs": [
    {
     "name": "stdout",
     "output_type": "stream",
     "text": [
      "[[ 4.   1.   1. ]\n",
      " [ 1.   6.4 -1. ]\n",
      " [ 1.  -1.   8.4]] \n",
      " [[ 1]\n",
      " [-2]\n",
      " [ 3]]\n"
     ]
    }
   ],
   "source": [
    "N = 2\n",
    "A = np.array([[4,1,1],[1,2*(3+0.1*N),-1],[1,-1,2*(4+0.1*N)]])\n",
    "b = np.array([[1,-2,3]]).transpose()\n",
    "print(A,'\\n',b)"
   ]
  },
  {
   "cell_type": "code",
   "execution_count": 3,
   "metadata": {},
   "outputs": [],
   "source": [
    "def f(x):\n",
    "    return 1/2 * (x.transpose()@A@x) + x.transpose()@b + N"
   ]
  },
  {
   "cell_type": "code",
   "execution_count": 5,
   "metadata": {},
   "outputs": [
    {
     "name": "stdout",
     "output_type": "stream",
     "text": [
      "[[-0.25411855]\n",
      " [ 0.30683687]\n",
      " [-0.29036243]] [[1.13056013]] 20\n"
     ]
    }
   ],
   "source": [
    "eps = 1e-6\n",
    "x = b #initial approximation\n",
    "i = 0\n",
    "\n",
    "while True:\n",
    "    q = A @ x + b\n",
    "    mu = - q.T@q / (q.T @ A @q)\n",
    "    x_old = x\n",
    "    x = x + mu.item()*q\n",
    "    \n",
    "    i += 1\n",
    "    if ((np.linalg.norm(x - x_old) < eps and np.linalg.norm(q) < eps) or i > 1000000):\n",
    "        break\n",
    "mngs_x = x\n",
    "mngs_fx = f(x)\n",
    "mngs_num = i\n",
    "print(mngs_x, mngs_fx, mngs_num)"
   ]
  },
  {
   "cell_type": "markdown",
   "metadata": {},
   "source": [
    "<h1>Метод покоординатного спуска</h1>"
   ]
  },
  {
   "cell_type": "markdown",
   "metadata": {},
   "source": [
    "МПС сходится для $\\forall x_0$, поэтому возьмем $x_0=b$"
   ]
  },
  {
   "cell_type": "markdown",
   "metadata": {},
   "source": [
    "$$q = e ^ { i } = ( \\underbrace { 0,0 , \\ldots , 0,1 } _ { i } , 0 \\ldots , 0 ) ^ { T }$$\n",
    "$$\\bar { \\mu } _ { k } = - \\frac { e ^ { i } \\cdot \\left( A x ^ { k } + b \\right) } { e ^ { i } \\cdot A e ^ { i } }$$"
   ]
  },
  {
   "cell_type": "code",
   "execution_count": 10,
   "metadata": {},
   "outputs": [
    {
     "name": "stdout",
     "output_type": "stream",
     "text": [
      "[[-0.25411869]\n",
      " [ 0.30683693]\n",
      " [-0.29036243]] [[1.13056013]] 9\n"
     ]
    }
   ],
   "source": [
    "x = b #initial approximation\n",
    "i = 0\n",
    "n = 3\n",
    "E = np.eye(n) \n",
    "E = np.matrix(E)\n",
    "while True: \n",
    "        for j in range(n):\n",
    "            q = E[j].T\n",
    "            mu = q.T @ (A@x+ b) / A[j][j]\n",
    "            \n",
    "            x_old = x\n",
    "            x = x - mu.item() * q\n",
    "            \n",
    "        i += 1\n",
    "        if((np.linalg.norm(x - x_old) < eps and np.linalg.norm(A@x+b) < eps) or i > 1000000):\n",
    "            break\n",
    "print(x, f(x), i)"
   ]
  },
  {
   "cell_type": "markdown",
   "metadata": {},
   "source": [
    "<h2>Сравнение методов</h2>"
   ]
  },
  {
   "cell_type": "code",
   "execution_count": 12,
   "metadata": {},
   "outputs": [
    {
     "name": "stdout",
     "output_type": "stream",
     "text": [
      "Разница между ответами:  -1.9984014443252818e-15\n",
      "Количество шагов МНГС:  20\n",
      "Количество шагов МПС:  9\n"
     ]
    }
   ],
   "source": [
    "diff = f(x)-mngs_fx\n",
    "print(\"Разница между ответами: \", diff.item())\n",
    "print(\"Количество шагов МНГС: \", mngs_num)\n",
    "print(\"Количество шагов МПС: \", i)"
   ]
  }
 ],
 "metadata": {
  "kernelspec": {
   "display_name": "Python 3",
   "language": "python",
   "name": "python3"
  },
  "language_info": {
   "codemirror_mode": {
    "name": "ipython",
    "version": 3
   },
   "file_extension": ".py",
   "mimetype": "text/x-python",
   "name": "python",
   "nbconvert_exporter": "python",
   "pygments_lexer": "ipython3",
   "version": "3.6.9"
  }
 },
 "nbformat": 4,
 "nbformat_minor": 2
}
