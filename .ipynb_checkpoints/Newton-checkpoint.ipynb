{
 "cells": [
  {
   "cell_type": "markdown",
   "metadata": {},
   "source": [
    "<h1>Приближенное решение уравнения $f(x)=0$ методом Ньютона</h1>"
   ]
  },
  {
   "cell_type": "code",
   "execution_count": 11,
   "metadata": {},
   "outputs": [],
   "source": [
    "from matplotlib import pyplot as plt\n",
    "import numpy as np \n",
    "from scipy import optimize as opt\n",
    "from math import sqrt"
   ]
  },
  {
   "cell_type": "markdown",
   "metadata": {},
   "source": [
    "${f(x) = ln{ln{x}} - e^{-x^2}}$\n",
    "\n",
    "${f'(x) = 2xe^{-x^2} + \\frac{1}{xln{x}}}$\n",
    "\n",
    "${f''(x) = e^{-x^2}(2-4x^2) - \\frac{1}{x^2ln^2(x)} - \\frac{1}{x^2 ln(x)} }$"
   ]
  },
  {
   "cell_type": "code",
   "execution_count": 3,
   "metadata": {},
   "outputs": [],
   "source": [
    "f = lambda x: np.log(np.log(x))-np.exp(-x**2)\n",
    "der_f = lambda x: 2*x*np.exp(-x**2)+1/(x*np.log(x))\n",
    "der2_f = lambda x: np.exp(-x**2)*(2-4*x**2) - 1/(x**2 * np.log(x)**2) - 1/(x**2 * np.log(x))"
   ]
  },
  {
   "cell_type": "code",
   "execution_count": 5,
   "metadata": {},
   "outputs": [
    {
     "data": {
      "image/png": "[encoded data removed]",
      "text/plain": [
       "<Figure size 432x288 with 1 Axes>"
      ]
     },
     "metadata": {
      "needs_background": "light"
     },
     "output_type": "display_data"
    }
   ],
   "source": [
    "x = np.arange(1.01, 5, 0.01)\n",
    "plt.plot(x, f(x), x, np.zeros(len(x)))\n",
    "plt.show()"
   ]
  },
  {
   "cell_type": "markdown",
   "metadata": {},
   "source": [
    "<h3>Функция ${f(x)}$ дважды дифференциируема на ${[1.5, 5.0]}$ и ${f(1.5)*f(5)<0}$, следовательно выполняются условия сходимости метода Ньютона</h3>"
   ]
  },
  {
   "cell_type": "markdown",
   "metadata": {},
   "source": [
    "Выберем начальное приближение ${x0=2.5}$\n",
    "Проверим, будет ли выполняться \n",
    "${f(x)f''(x) > 0}$"
   ]
  },
  {
   "cell_type": "code",
   "execution_count": 6,
   "metadata": {},
   "outputs": [
    {
     "data": {
      "text/plain": [
       "0.036597429339471584"
      ]
     },
     "execution_count": 6,
     "metadata": {},
     "output_type": "execute_result"
    }
   ],
   "source": [
    "f(2.5)*der2_f(2.5)"
   ]
  },
  {
   "cell_type": "markdown",
   "metadata": {},
   "source": [
    "Определим значения $m_1$ и $M_2$"
   ]
  },
  {
   "cell_type": "code",
   "execution_count": 9,
   "metadata": {},
   "outputs": [
    {
     "name": "stdout",
     "output_type": "stream",
     "text": [
      "0.12467109925328225 4.53733067455812\n"
     ]
    }
   ],
   "source": [
    "m1 = min([abs(der_f(x)) for x in np.arange(1.5,5, 0.01)])\n",
    "m2 = max([abs(der2_f(x)) for x in np.arange(1.5, 5, 0.01)])\n",
    "print(m1, m2)"
   ]
  },
  {
   "cell_type": "markdown",
   "metadata": {},
   "source": [
    "По заданному $\\varepsilon_0 = 1e-6$ найдем $\\varepsilon = \\sqrt{2m_1 \\varepsilon_0 / M_2}$"
   ]
  },
  {
   "cell_type": "code",
   "execution_count": 13,
   "metadata": {},
   "outputs": [
    {
     "data": {
      "text/plain": [
       "0.0002344216274173975"
      ]
     },
     "execution_count": 13,
     "metadata": {},
     "output_type": "execute_result"
    }
   ],
   "source": [
    "eps = sqrt(2*m1*10**-6/m2)\n",
    "eps"
   ]
  },
  {
   "cell_type": "code",
   "execution_count": 14,
   "metadata": {},
   "outputs": [],
   "source": [
    "def newton(f, der_f, x0, eps):\n",
    "    xc = x0\n",
    "    while True:\n",
    "        xn = xc - f(xc)/der_f(xc)\n",
    "        if abs(xn-xc)<eps:\n",
    "            return(xn)\n",
    "        xc = xn"
   ]
  },
  {
   "cell_type": "code",
   "execution_count": 16,
   "metadata": {},
   "outputs": [
    {
     "data": {
      "text/plain": [
       "2.7199475325339133"
      ]
     },
     "execution_count": 16,
     "metadata": {},
     "output_type": "execute_result"
    }
   ],
   "source": [
    "my_sol = newton(f, der_f, 2.5, eps)\n",
    "my_sol"
   ]
  },
  {
   "cell_type": "code",
   "execution_count": 17,
   "metadata": {},
   "outputs": [
    {
     "data": {
      "text/plain": [
       "2.719947541330329"
      ]
     },
     "execution_count": 17,
     "metadata": {},
     "output_type": "execute_result"
    }
   ],
   "source": [
    "sc_sol = opt.root_scalar(f, method='brentq', bracket=[1.5,5]).root\n",
    "sc_sol"
   ]
  },
  {
   "cell_type": "code",
   "execution_count": 18,
   "metadata": {},
   "outputs": [
    {
     "data": {
      "text/plain": [
       "8.796415595924145e-09"
      ]
     },
     "execution_count": 18,
     "metadata": {},
     "output_type": "execute_result"
    }
   ],
   "source": [
    "sc_sol - my_sol"
   ]
  }
 ],
 "metadata": {
  "kernelspec": {
   "display_name": "Python 3",
   "language": "python",
   "name": "python3"
  },
  "language_info": {
   "codemirror_mode": {
    "name": "ipython",
    "version": 3
   },
   "file_extension": ".py",
   "mimetype": "text/x-python",
   "name": "python",
   "nbconvert_exporter": "python",
   "pygments_lexer": "ipython3",
   "version": "3.6.8"
  }
 },
 "nbformat": 4,
 "nbformat_minor": 2
}
