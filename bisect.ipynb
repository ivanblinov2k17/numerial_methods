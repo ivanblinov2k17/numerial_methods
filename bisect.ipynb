{
 "cells": [
  {
   "cell_type": "markdown",
   "metadata": {},
   "source": [
    "<h1>Приближенное решение уравнения ${f(x) = 0}$ методом деления отрезка пополам</h1>\n",
    "<h2>Описание метода</h2>\n",
    "\n",
    "Для работы метода нам нужно знать отрезок [a, b], такой что выполняется теорема Больцано-Коши $f(a) * f(b) < 0$ . В таком случае на этом отрезке $\\exists c: f(c) = 0, c \\in (a, b)$. Мы будем строить последовательность отрезков $\\{[a_n, b_n] : [a_n, b_n] \\subset [a_{n-1}, b_{n-1}] \\subset [a, b]\\}$, на концах которой функция принимает значения разных знаков. На каждом шаге итерации мы вычисляем значение $\\xi = \\frac{a_n + b_n}{2}$ и значение функции $f(\\xi)$ в этой точке. После мы проверяем является ли $\\xi$ корнем нашего уравнения и если не является то мы добавляем в нашу последовательность отрезков один из отрезков $[a_n, \\xi]$ или $[\\xi, b_n]$ (выбираем из них тот на концах которого функция имеет разные знаки)"
   ]
  },
  {
   "cell_type": "code",
   "execution_count": 2,
   "metadata": {},
   "outputs": [],
   "source": [
    "from matplotlib import pyplot as plt\n",
    "import numpy as np\n",
    "from scipy import optimize "
   ]
  },
  {
   "cell_type": "markdown",
   "metadata": {},
   "source": [
    "\n",
    "\n",
    "${f(x) = ln{ln(x)}-e^{-x^2}}$"
   ]
  },
  {
   "cell_type": "code",
   "execution_count": 3,
   "metadata": {},
   "outputs": [],
   "source": [
    "f = lambda x: np.log(np.log(x))-np.exp(-x**2)"
   ]
  },
  {
   "cell_type": "markdown",
   "metadata": {},
   "source": [
    "Строим график для визуального определения отрезка"
   ]
  },
  {
   "cell_type": "code",
   "execution_count": 4,
   "metadata": {},
   "outputs": [
    {
     "data": {
      "image/png": "[encoded data removed]",
      "text/plain": [
       "<Figure size 432x288 with 1 Axes>"
      ]
     },
     "metadata": {
      "needs_background": "light"
     },
     "output_type": "display_data"
    }
   ],
   "source": [
    "x = np.arange(1.01, 10, 0.01)\n",
    "plt.plot(x, f(x), x, np.zeros(len(x)))\n",
    "plt.show()"
   ]
  },
  {
   "cell_type": "code",
   "execution_count": 5,
   "metadata": {},
   "outputs": [],
   "source": [
    "def bisect(f,a,b,eps):\n",
    "    k=0\n",
    "    psi = (b+a)/2\n",
    "    an = a\n",
    "    bn = b\n",
    "    while (bn - an > 2 * eps) and (f(psi)!=0):\n",
    "        psi = (bn + an) / 2\n",
    "        if f(bn)*f(psi)<0:\n",
    "            an = psi\n",
    "        else:\n",
    "            bn = psi\n",
    "        k += 1\n",
    "    return psi, k"
   ]
  },
  {
   "cell_type": "markdown",
   "metadata": {},
   "source": [
    "Мой ответ"
   ]
  },
  {
   "cell_type": "code",
   "execution_count": 6,
   "metadata": {},
   "outputs": [
    {
     "data": {
      "text/plain": [
       "(2.7199459075927734, 21)"
      ]
     },
     "execution_count": 6,
     "metadata": {},
     "output_type": "execute_result"
    }
   ],
   "source": [
    "my_ans, k = bisect(f, 2.0, 6.0, 1e-6)\n",
    "my_ans, k"
   ]
  },
  {
   "cell_type": "markdown",
   "metadata": {},
   "source": [
    "Ответ, полученный встроенными методами языка"
   ]
  },
  {
   "cell_type": "code",
   "execution_count": 31,
   "metadata": {},
   "outputs": [
    {
     "data": {
      "text/plain": [
       "2.719947541330839"
      ]
     },
     "execution_count": 31,
     "metadata": {},
     "output_type": "execute_result"
    }
   ],
   "source": [
    "scipy_ans = optimize.root_scalar(f, bracket=[2.0, 6.0], method='bisect').root\n",
    "scipy_ans"
   ]
  },
  {
   "cell_type": "markdown",
   "metadata": {},
   "source": [
    "Разница ответов"
   ]
  },
  {
   "cell_type": "code",
   "execution_count": 32,
   "metadata": {},
   "outputs": [
    {
     "data": {
      "text/plain": [
       "1.6337380657205358e-06"
      ]
     },
     "execution_count": 32,
     "metadata": {},
     "output_type": "execute_result"
    }
   ],
   "source": [
    "scipy_ans-my_ans"
   ]
  }
 ],
 "metadata": {
  "kernelspec": {
   "display_name": "Python 3",
   "language": "python",
   "name": "python3"
  },
  "language_info": {
   "codemirror_mode": {
    "name": "ipython",
    "version": 3
   },
   "file_extension": ".py",
   "mimetype": "text/x-python",
   "name": "python",
   "nbconvert_exporter": "python",
   "pygments_lexer": "ipython3",
   "version": "3.6.8"
  }
 },
 "nbformat": 4,
 "nbformat_minor": 2
}
